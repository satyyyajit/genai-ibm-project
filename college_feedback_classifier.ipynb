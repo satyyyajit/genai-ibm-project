{
 "cells": [
  {
   "cell_type": "code",
   "execution_count": 9,
   "id": "71e8f35b",
   "metadata": {},
   "outputs": [
    {
     "name": "stdout",
     "output_type": "stream",
     "text": [
      "Defaulting to user installation because normal site-packages is not writeable\n",
      "Requirement already satisfied: transformers in c:\\users\\satya\\appdata\\local\\packages\\pythonsoftwarefoundation.python.3.13_qbz5n2kfra8p0\\localcache\\local-packages\\python313\\site-packages (4.52.3)\n",
      "Requirement already satisfied: pandas in c:\\users\\satya\\appdata\\local\\packages\\pythonsoftwarefoundation.python.3.13_qbz5n2kfra8p0\\localcache\\local-packages\\python313\\site-packages (2.3.0)\n",
      "Requirement already satisfied: scikit-learn in c:\\users\\satya\\appdata\\local\\packages\\pythonsoftwarefoundation.python.3.13_qbz5n2kfra8p0\\localcache\\local-packages\\python313\\site-packages (1.6.1)\n",
      "Requirement already satisfied: matplotlib in c:\\users\\satya\\appdata\\local\\packages\\pythonsoftwarefoundation.python.3.13_qbz5n2kfra8p0\\localcache\\local-packages\\python313\\site-packages (3.10.3)\n",
      "Requirement already satisfied: filelock in c:\\users\\satya\\appdata\\local\\packages\\pythonsoftwarefoundation.python.3.13_qbz5n2kfra8p0\\localcache\\local-packages\\python313\\site-packages (from transformers) (3.18.0)\n",
      "Requirement already satisfied: huggingface-hub<1.0,>=0.30.0 in c:\\users\\satya\\appdata\\local\\packages\\pythonsoftwarefoundation.python.3.13_qbz5n2kfra8p0\\localcache\\local-packages\\python313\\site-packages (from transformers) (0.32.2)\n",
      "Requirement already satisfied: numpy>=1.17 in c:\\users\\satya\\appdata\\local\\packages\\pythonsoftwarefoundation.python.3.13_qbz5n2kfra8p0\\localcache\\local-packages\\python313\\site-packages (from transformers) (2.2.6)\n",
      "Requirement already satisfied: packaging>=20.0 in c:\\users\\satya\\appdata\\local\\packages\\pythonsoftwarefoundation.python.3.13_qbz5n2kfra8p0\\localcache\\local-packages\\python313\\site-packages (from transformers) (25.0)\n",
      "Requirement already satisfied: pyyaml>=5.1 in c:\\users\\satya\\appdata\\local\\packages\\pythonsoftwarefoundation.python.3.13_qbz5n2kfra8p0\\localcache\\local-packages\\python313\\site-packages (from transformers) (6.0.2)\n",
      "Requirement already satisfied: regex!=2019.12.17 in c:\\users\\satya\\appdata\\local\\packages\\pythonsoftwarefoundation.python.3.13_qbz5n2kfra8p0\\localcache\\local-packages\\python313\\site-packages (from transformers) (2024.11.6)\n",
      "Requirement already satisfied: requests in c:\\users\\satya\\appdata\\local\\packages\\pythonsoftwarefoundation.python.3.13_qbz5n2kfra8p0\\localcache\\local-packages\\python313\\site-packages (from transformers) (2.32.3)\n",
      "Requirement already satisfied: tokenizers<0.22,>=0.21 in c:\\users\\satya\\appdata\\local\\packages\\pythonsoftwarefoundation.python.3.13_qbz5n2kfra8p0\\localcache\\local-packages\\python313\\site-packages (from transformers) (0.21.1)\n",
      "Requirement already satisfied: safetensors>=0.4.3 in c:\\users\\satya\\appdata\\local\\packages\\pythonsoftwarefoundation.python.3.13_qbz5n2kfra8p0\\localcache\\local-packages\\python313\\site-packages (from transformers) (0.5.3)\n",
      "Requirement already satisfied: tqdm>=4.27 in c:\\users\\satya\\appdata\\local\\packages\\pythonsoftwarefoundation.python.3.13_qbz5n2kfra8p0\\localcache\\local-packages\\python313\\site-packages (from transformers) (4.67.1)\n",
      "Requirement already satisfied: fsspec>=2023.5.0 in c:\\users\\satya\\appdata\\local\\packages\\pythonsoftwarefoundation.python.3.13_qbz5n2kfra8p0\\localcache\\local-packages\\python313\\site-packages (from huggingface-hub<1.0,>=0.30.0->transformers) (2025.3.0)\n",
      "Requirement already satisfied: typing-extensions>=3.7.4.3 in c:\\users\\satya\\appdata\\local\\packages\\pythonsoftwarefoundation.python.3.13_qbz5n2kfra8p0\\localcache\\local-packages\\python313\\site-packages (from huggingface-hub<1.0,>=0.30.0->transformers) (4.13.2)\n",
      "Requirement already satisfied: python-dateutil>=2.8.2 in c:\\users\\satya\\appdata\\local\\packages\\pythonsoftwarefoundation.python.3.13_qbz5n2kfra8p0\\localcache\\local-packages\\python313\\site-packages (from pandas) (2.9.0.post0)\n",
      "Requirement already satisfied: pytz>=2020.1 in c:\\users\\satya\\appdata\\local\\packages\\pythonsoftwarefoundation.python.3.13_qbz5n2kfra8p0\\localcache\\local-packages\\python313\\site-packages (from pandas) (2025.2)\n",
      "Requirement already satisfied: tzdata>=2022.7 in c:\\users\\satya\\appdata\\local\\packages\\pythonsoftwarefoundation.python.3.13_qbz5n2kfra8p0\\localcache\\local-packages\\python313\\site-packages (from pandas) (2025.2)\n",
      "Requirement already satisfied: scipy>=1.6.0 in c:\\users\\satya\\appdata\\local\\packages\\pythonsoftwarefoundation.python.3.13_qbz5n2kfra8p0\\localcache\\local-packages\\python313\\site-packages (from scikit-learn) (1.15.3)\n",
      "Requirement already satisfied: joblib>=1.2.0 in c:\\users\\satya\\appdata\\local\\packages\\pythonsoftwarefoundation.python.3.13_qbz5n2kfra8p0\\localcache\\local-packages\\python313\\site-packages (from scikit-learn) (1.5.1)\n",
      "Requirement already satisfied: threadpoolctl>=3.1.0 in c:\\users\\satya\\appdata\\local\\packages\\pythonsoftwarefoundation.python.3.13_qbz5n2kfra8p0\\localcache\\local-packages\\python313\\site-packages (from scikit-learn) (3.6.0)\n",
      "Requirement already satisfied: contourpy>=1.0.1 in c:\\users\\satya\\appdata\\local\\packages\\pythonsoftwarefoundation.python.3.13_qbz5n2kfra8p0\\localcache\\local-packages\\python313\\site-packages (from matplotlib) (1.3.2)\n",
      "Requirement already satisfied: cycler>=0.10 in c:\\users\\satya\\appdata\\local\\packages\\pythonsoftwarefoundation.python.3.13_qbz5n2kfra8p0\\localcache\\local-packages\\python313\\site-packages (from matplotlib) (0.12.1)\n",
      "Requirement already satisfied: fonttools>=4.22.0 in c:\\users\\satya\\appdata\\local\\packages\\pythonsoftwarefoundation.python.3.13_qbz5n2kfra8p0\\localcache\\local-packages\\python313\\site-packages (from matplotlib) (4.58.4)\n",
      "Requirement already satisfied: kiwisolver>=1.3.1 in c:\\users\\satya\\appdata\\local\\packages\\pythonsoftwarefoundation.python.3.13_qbz5n2kfra8p0\\localcache\\local-packages\\python313\\site-packages (from matplotlib) (1.4.8)\n",
      "Requirement already satisfied: pillow>=8 in c:\\users\\satya\\appdata\\local\\packages\\pythonsoftwarefoundation.python.3.13_qbz5n2kfra8p0\\localcache\\local-packages\\python313\\site-packages (from matplotlib) (11.2.1)\n",
      "Requirement already satisfied: pyparsing>=2.3.1 in c:\\users\\satya\\appdata\\local\\packages\\pythonsoftwarefoundation.python.3.13_qbz5n2kfra8p0\\localcache\\local-packages\\python313\\site-packages (from matplotlib) (3.2.3)\n",
      "Requirement already satisfied: six>=1.5 in c:\\users\\satya\\appdata\\local\\packages\\pythonsoftwarefoundation.python.3.13_qbz5n2kfra8p0\\localcache\\local-packages\\python313\\site-packages (from python-dateutil>=2.8.2->pandas) (1.17.0)\n",
      "Requirement already satisfied: colorama in c:\\users\\satya\\appdata\\local\\packages\\pythonsoftwarefoundation.python.3.13_qbz5n2kfra8p0\\localcache\\local-packages\\python313\\site-packages (from tqdm>=4.27->transformers) (0.4.6)\n",
      "Requirement already satisfied: charset-normalizer<4,>=2 in c:\\users\\satya\\appdata\\local\\packages\\pythonsoftwarefoundation.python.3.13_qbz5n2kfra8p0\\localcache\\local-packages\\python313\\site-packages (from requests->transformers) (3.4.2)\n",
      "Requirement already satisfied: idna<4,>=2.5 in c:\\users\\satya\\appdata\\local\\packages\\pythonsoftwarefoundation.python.3.13_qbz5n2kfra8p0\\localcache\\local-packages\\python313\\site-packages (from requests->transformers) (3.10)\n",
      "Requirement already satisfied: urllib3<3,>=1.21.1 in c:\\users\\satya\\appdata\\local\\packages\\pythonsoftwarefoundation.python.3.13_qbz5n2kfra8p0\\localcache\\local-packages\\python313\\site-packages (from requests->transformers) (2.4.0)\n",
      "Requirement already satisfied: certifi>=2017.4.17 in c:\\users\\satya\\appdata\\local\\packages\\pythonsoftwarefoundation.python.3.13_qbz5n2kfra8p0\\localcache\\local-packages\\python313\\site-packages (from requests->transformers) (2025.4.26)\n",
      "Note: you may need to restart the kernel to use updated packages.\n"
     ]
    }
   ],
   "source": [
    "# Install necessary packages for the project\n",
    "\n",
    "%pip install transformers pandas scikit-learn matplotlib"
   ]
  },
  {
   "cell_type": "code",
   "execution_count": 10,
   "id": "87772bee",
   "metadata": {},
   "outputs": [
    {
     "data": {
      "text/html": [
       "<div>\n",
       "<style scoped>\n",
       "    .dataframe tbody tr th:only-of-type {\n",
       "        vertical-align: middle;\n",
       "    }\n",
       "\n",
       "    .dataframe tbody tr th {\n",
       "        vertical-align: top;\n",
       "    }\n",
       "\n",
       "    .dataframe thead th {\n",
       "        text-align: right;\n",
       "    }\n",
       "</style>\n",
       "<table border=\"1\" class=\"dataframe\">\n",
       "  <thead>\n",
       "    <tr style=\"text-align: right;\">\n",
       "      <th></th>\n",
       "      <th>feedback_id</th>\n",
       "      <th>feedback_text</th>\n",
       "      <th>category</th>\n",
       "      <th>department</th>\n",
       "      <th>rating</th>\n",
       "      <th>semester</th>\n",
       "      <th>student_type</th>\n",
       "    </tr>\n",
       "  </thead>\n",
       "  <tbody>\n",
       "    <tr>\n",
       "      <th>0</th>\n",
       "      <td>1</td>\n",
       "      <td>Physics professors explain complex topics clea...</td>\n",
       "      <td>Academics</td>\n",
       "      <td>Physics</td>\n",
       "      <td>3</td>\n",
       "      <td>Fall 2023</td>\n",
       "      <td>Undergraduate</td>\n",
       "    </tr>\n",
       "    <tr>\n",
       "      <th>1</th>\n",
       "      <td>2</td>\n",
       "      <td>New dorm buildings have great amenities but th...</td>\n",
       "      <td>Facilities</td>\n",
       "      <td>Housing</td>\n",
       "      <td>4</td>\n",
       "      <td>Spring 2024</td>\n",
       "      <td>Freshman</td>\n",
       "    </tr>\n",
       "    <tr>\n",
       "      <th>2</th>\n",
       "      <td>3</td>\n",
       "      <td>Financial aid office takes 3+ weeks to respond...</td>\n",
       "      <td>Administration</td>\n",
       "      <td>Financial Aid</td>\n",
       "      <td>1</td>\n",
       "      <td>Fall 2023</td>\n",
       "      <td>Transfer</td>\n",
       "    </tr>\n",
       "    <tr>\n",
       "      <th>3</th>\n",
       "      <td>4</td>\n",
       "      <td>International student orientation helped me se...</td>\n",
       "      <td>Student Life</td>\n",
       "      <td>International Programs</td>\n",
       "      <td>5</td>\n",
       "      <td>Spring 2024</td>\n",
       "      <td>International</td>\n",
       "    </tr>\n",
       "    <tr>\n",
       "      <th>4</th>\n",
       "      <td>5</td>\n",
       "      <td>Chemistry lab safety protocols are extremely t...</td>\n",
       "      <td>Academics</td>\n",
       "      <td>Chemistry</td>\n",
       "      <td>5</td>\n",
       "      <td>Fall 2023</td>\n",
       "      <td>Graduate</td>\n",
       "    </tr>\n",
       "  </tbody>\n",
       "</table>\n",
       "</div>"
      ],
      "text/plain": [
       "   feedback_id                                      feedback_text  \\\n",
       "0            1  Physics professors explain complex topics clea...   \n",
       "1            2  New dorm buildings have great amenities but th...   \n",
       "2            3  Financial aid office takes 3+ weeks to respond...   \n",
       "3            4  International student orientation helped me se...   \n",
       "4            5  Chemistry lab safety protocols are extremely t...   \n",
       "\n",
       "         category              department  rating     semester   student_type  \n",
       "0       Academics                 Physics       3    Fall 2023  Undergraduate  \n",
       "1      Facilities                 Housing       4  Spring 2024       Freshman  \n",
       "2  Administration           Financial Aid       1    Fall 2023       Transfer  \n",
       "3    Student Life  International Programs       5  Spring 2024  International  \n",
       "4       Academics               Chemistry       5    Fall 2023       Graduate  "
      ]
     },
     "execution_count": 10,
     "metadata": {},
     "output_type": "execute_result"
    }
   ],
   "source": [
    "# import necessary libraries and load the dataset\n",
    "import pandas as pd\n",
    "\n",
    "\n",
    "df = pd.read_csv('college_feedbacks.csv')\n",
    "# print the first few rows of the dataframe to verify, where the dataset is expected to have columns like 'feedback', 'rating', etc.\n",
    "df.head()\n"
   ]
  },
  {
   "cell_type": "code",
   "execution_count": 11,
   "id": "76bec10b",
   "metadata": {},
   "outputs": [],
   "source": [
    "# import necessary libraries for model\n",
    "from transformers import AutoTokenizer, AutoModelForSeq2SeqLM\n",
    "import torch\n",
    "\n",
    "# load pre-trained model from google i.e., Flan-T5 and tokenizer from transformers library\n",
    "model_name = 'google/flan-t5-base'\n",
    "tokenizer = AutoTokenizer.from_pretrained(model_name)\n",
    "model = AutoModelForSeq2SeqLM.from_pretrained(model_name)\n"
   ]
  },
  {
   "cell_type": "code",
   "execution_count": 12,
   "id": "8aad9804",
   "metadata": {},
   "outputs": [],
   "source": [
    "# The function will creat a few shot prompt for the model\n",
    "\n",
    "def create_prompt(feedback):\n",
    "    return f\"\"\"You are an assistant that classifies student feedback into one of the following categories:\n",
    "\n",
    "Facilities  \n",
    "Academics  \n",
    "Administration  \n",
    "Student Life\n",
    "\n",
    "Only classify the feedback based on the main theme. Do not provide any additional information or explanations.\n",
    "\n",
    "Classify based on the main theme. Some examples:\n",
    "\n",
    "Feedback: \"The library is always crowded and lacks enough seating.\"\n",
    "Category: Facilities\n",
    "\n",
    "Feedback: \"Wi-Fi in the hostel doesn't work half the time.\"  \n",
    "Category: Facilities\n",
    "\n",
    "Feedback: \"The professors are very knowledgeable but the lectures are too fast-paced.\"\n",
    "Category: Academics\n",
    "\n",
    "Feedback: \"The lectures are too rushed and we barely understand the core concepts.\"  \n",
    "Category: Academics\n",
    "\n",
    "Feedback: \"I feel overwhelmed and there's no proper counseling support.\"  \n",
    "Category: Student Life\n",
    "\n",
    "Feedback: \"The placement cell is very active and helps students a lot.\"\n",
    "Category: Administration\n",
    "\n",
    "Now classify the following:\n",
    "\n",
    "Feedback: \"{feedback}\"  \n",
    "Category:\"\"\"\n"
   ]
  },
  {
   "cell_type": "code",
   "execution_count": 13,
   "id": "71ea7dd1",
   "metadata": {},
   "outputs": [],
   "source": [
    "# Function to classify feedback using the model\n",
    "\n",
    "def classify_feedback(feedback_text):\n",
    "    prompt = create_prompt(feedback_text)\n",
    "    input_ids = tokenizer(prompt, return_tensors=\"pt\" ).input_ids\n",
    "    output_ids = model.generate(input_ids, max_length=10)\n",
    "    result = tokenizer.decode(output_ids[0], skip_special_tokens=True)\n",
    "    return result.strip()"
   ]
  },
  {
   "cell_type": "code",
   "execution_count": 14,
   "id": "2acd1852",
   "metadata": {},
   "outputs": [
    {
     "name": "stdout",
     "output_type": "stream",
     "text": [
      "Student Life\n",
      "Facility\n",
      "Administration\n",
      "Student Life\n"
     ]
    }
   ],
   "source": [
    "# Example usage\n",
    "print(classify_feedback(\"The mentorship program is very helpful for career guidance.\"))\n",
    "print(classify_feedback(\"Hostel food quality has improved but still needs work.\"))\n",
    "print(classify_feedback(\"The admin is slow in responding to our queries.\"))\n",
    "print(classify_feedback(\"The club activities are too hectic and not well organized, taking too much time away from studies.\"))\n"
   ]
  },
  {
   "cell_type": "code",
   "execution_count": 15,
   "id": "6c0437ea",
   "metadata": {},
   "outputs": [
    {
     "name": "stdout",
     "output_type": "stream",
     "text": [
      "Saved classified feedback to tested_feedbacks.csv\n",
      "\n"
     ]
    },
    {
     "data": {
      "text/html": [
       "<div>\n",
       "<style scoped>\n",
       "    .dataframe tbody tr th:only-of-type {\n",
       "        vertical-align: middle;\n",
       "    }\n",
       "\n",
       "    .dataframe tbody tr th {\n",
       "        vertical-align: top;\n",
       "    }\n",
       "\n",
       "    .dataframe thead th {\n",
       "        text-align: right;\n",
       "    }\n",
       "</style>\n",
       "<table border=\"1\" class=\"dataframe\">\n",
       "  <thead>\n",
       "    <tr style=\"text-align: right;\">\n",
       "      <th></th>\n",
       "      <th>feedback_id</th>\n",
       "      <th>feedback_text</th>\n",
       "      <th>category</th>\n",
       "      <th>department</th>\n",
       "      <th>rating</th>\n",
       "      <th>semester</th>\n",
       "      <th>student_type</th>\n",
       "      <th>predicted_category</th>\n",
       "    </tr>\n",
       "  </thead>\n",
       "  <tbody>\n",
       "    <tr>\n",
       "      <th>0</th>\n",
       "      <td>1</td>\n",
       "      <td>Physics professors explain complex topics clea...</td>\n",
       "      <td>Academics</td>\n",
       "      <td>Physics</td>\n",
       "      <td>3</td>\n",
       "      <td>Fall 2023</td>\n",
       "      <td>Undergraduate</td>\n",
       "      <td>Academics</td>\n",
       "    </tr>\n",
       "    <tr>\n",
       "      <th>1</th>\n",
       "      <td>2</td>\n",
       "      <td>New dorm buildings have great amenities but th...</td>\n",
       "      <td>Facilities</td>\n",
       "      <td>Housing</td>\n",
       "      <td>4</td>\n",
       "      <td>Spring 2024</td>\n",
       "      <td>Freshman</td>\n",
       "      <td>Facilities</td>\n",
       "    </tr>\n",
       "    <tr>\n",
       "      <th>2</th>\n",
       "      <td>3</td>\n",
       "      <td>Financial aid office takes 3+ weeks to respond...</td>\n",
       "      <td>Administration</td>\n",
       "      <td>Financial Aid</td>\n",
       "      <td>1</td>\n",
       "      <td>Fall 2023</td>\n",
       "      <td>Transfer</td>\n",
       "      <td>Administration</td>\n",
       "    </tr>\n",
       "    <tr>\n",
       "      <th>3</th>\n",
       "      <td>4</td>\n",
       "      <td>International student orientation helped me se...</td>\n",
       "      <td>Student Life</td>\n",
       "      <td>International Programs</td>\n",
       "      <td>5</td>\n",
       "      <td>Spring 2024</td>\n",
       "      <td>International</td>\n",
       "      <td>Student Life</td>\n",
       "    </tr>\n",
       "    <tr>\n",
       "      <th>4</th>\n",
       "      <td>5</td>\n",
       "      <td>Chemistry lab safety protocols are extremely t...</td>\n",
       "      <td>Academics</td>\n",
       "      <td>Chemistry</td>\n",
       "      <td>5</td>\n",
       "      <td>Fall 2023</td>\n",
       "      <td>Graduate</td>\n",
       "      <td>Administration</td>\n",
       "    </tr>\n",
       "  </tbody>\n",
       "</table>\n",
       "</div>"
      ],
      "text/plain": [
       "   feedback_id                                      feedback_text  \\\n",
       "0            1  Physics professors explain complex topics clea...   \n",
       "1            2  New dorm buildings have great amenities but th...   \n",
       "2            3  Financial aid office takes 3+ weeks to respond...   \n",
       "3            4  International student orientation helped me se...   \n",
       "4            5  Chemistry lab safety protocols are extremely t...   \n",
       "\n",
       "         category              department  rating     semester   student_type  \\\n",
       "0       Academics                 Physics       3    Fall 2023  Undergraduate   \n",
       "1      Facilities                 Housing       4  Spring 2024       Freshman   \n",
       "2  Administration           Financial Aid       1    Fall 2023       Transfer   \n",
       "3    Student Life  International Programs       5  Spring 2024  International   \n",
       "4       Academics               Chemistry       5    Fall 2023       Graduate   \n",
       "\n",
       "  predicted_category  \n",
       "0          Academics  \n",
       "1         Facilities  \n",
       "2     Administration  \n",
       "3       Student Life  \n",
       "4     Administration  "
      ]
     },
     "execution_count": 15,
     "metadata": {},
     "output_type": "execute_result"
    }
   ],
   "source": [
    "# test the dataset with the model to classify feedbacks\n",
    "\n",
    "def test_dataset():\n",
    "    \n",
    "    predictions = []\n",
    "    for feedback in df['feedback_text']:\n",
    "        category = classify_feedback(feedback)\n",
    "        predictions.append(category)\n",
    "\n",
    "    df['predicted_category'] = predictions\n",
    "\n",
    "    df.to_csv(\"tested_feedbacks.csv\", index=False)\n",
    "    print(\"Saved classified feedback to tested_feedbacks.csv\")\n",
    "\n",
    "test_dataset()\n",
    "\n",
    "print()\n",
    "pd.read_csv(\"tested_feedbacks.csv\").head()\n"
   ]
  },
  {
   "cell_type": "code",
   "execution_count": 16,
   "id": "d3fd4ed2",
   "metadata": {},
   "outputs": [
    {
     "data": {
      "image/png": "[encoded data removed]",
      "text/plain": [
       "<Figure size 1200x600 with 1 Axes>"
      ]
     },
     "metadata": {},
     "output_type": "display_data"
    }
   ],
   "source": [
    "\n",
    "# visualization of the results using matplotlib\n",
    "import matplotlib.pyplot as plt\n",
    "# compare the predicted categories with the actual categories\n",
    "def compare_categories():\n",
    "    category_counts = df['predicted_category'].value_counts()\n",
    "    actual_counts = df['category'].value_counts()\n",
    "    plt.figure(figsize=(12, 6))\n",
    "    plt.bar(category_counts.index, category_counts.values, alpha=0.5, label='Predicted')\n",
    "    plt.bar(actual_counts.index, actual_counts.values, alpha=0.5, label='Actual')\n",
    "    plt.xlabel('Categories')\n",
    "    plt.ylabel('Counts')\n",
    "    plt.title('Comparison of Predicted and Actual Categories')\n",
    "    plt.legend()\n",
    "    plt.show()\n",
    "\n",
    "compare_categories()"
   ]
  },
  {
   "cell_type": "code",
   "execution_count": 17,
   "id": "d5384cf6",
   "metadata": {},
   "outputs": [
    {
     "name": "stdout",
     "output_type": "stream",
     "text": [
      "Classification Report:\n",
      "                precision    recall  f1-score   support\n",
      "\n",
      "     Academics       0.80      0.36      0.49        67\n",
      "Administration       0.47      0.81      0.60        53\n",
      "   Educational       0.00      0.00      0.00         0\n",
      "    Facilities       0.85      0.44      0.58        64\n",
      "      Facility       0.00      0.00      0.00         0\n",
      "  Student Life       0.76      0.67      0.71        66\n",
      "\n",
      "      accuracy                           0.56       250\n",
      "     macro avg       0.48      0.38      0.40       250\n",
      "  weighted avg       0.73      0.56      0.59       250\n",
      "\n"
     ]
    },
    {
     "name": "stderr",
     "output_type": "stream",
     "text": [
      "C:\\Users\\satya\\AppData\\Local\\Packages\\PythonSoftwareFoundation.Python.3.13_qbz5n2kfra8p0\\LocalCache\\local-packages\\Python313\\site-packages\\sklearn\\metrics\\_classification.py:1565: UndefinedMetricWarning: Recall is ill-defined and being set to 0.0 in labels with no true samples. Use `zero_division` parameter to control this behavior.\n",
      "  _warn_prf(average, modifier, f\"{metric.capitalize()} is\", len(result))\n",
      "C:\\Users\\satya\\AppData\\Local\\Packages\\PythonSoftwareFoundation.Python.3.13_qbz5n2kfra8p0\\LocalCache\\local-packages\\Python313\\site-packages\\sklearn\\metrics\\_classification.py:1565: UndefinedMetricWarning: Recall is ill-defined and being set to 0.0 in labels with no true samples. Use `zero_division` parameter to control this behavior.\n",
      "  _warn_prf(average, modifier, f\"{metric.capitalize()} is\", len(result))\n",
      "C:\\Users\\satya\\AppData\\Local\\Packages\\PythonSoftwareFoundation.Python.3.13_qbz5n2kfra8p0\\LocalCache\\local-packages\\Python313\\site-packages\\sklearn\\metrics\\_classification.py:1565: UndefinedMetricWarning: Recall is ill-defined and being set to 0.0 in labels with no true samples. Use `zero_division` parameter to control this behavior.\n",
      "  _warn_prf(average, modifier, f\"{metric.capitalize()} is\", len(result))\n"
     ]
    }
   ],
   "source": [
    "# classification report to evaluate the model's performance\n",
    "from sklearn.metrics import classification_report\n",
    "def evaluate_model():\n",
    "    print(\"Classification Report:\")\n",
    "    print(classification_report(df['category'], df['predicted_category']))\n",
    "\n",
    "evaluate_model()"
   ]
  },
  {
   "cell_type": "code",
   "execution_count": 18,
   "id": "21ea33a9",
   "metadata": {},
   "outputs": [
    {
     "name": "stdout",
     "output_type": "stream",
     "text": [
      "Exported classified feedbacks to json_test_feedbacks.json\n"
     ]
    }
   ],
   "source": [
    "# export the json\n",
    "import json\n",
    "def export_to_json():\n",
    "    result = df[['feedback_text', 'predicted_category']].to_dict(orient='records')\n",
    "    with open('json_tested_feedbacks.json', 'w') as f:\n",
    "        json.dump(result, f, indent=4)\n",
    "    print(\"Exported classified feedbacks to json_test_feedbacks.json\")\n",
    "\n",
    "export_to_json()"
   ]
  },
  {
   "cell_type": "code",
   "execution_count": null,
   "id": "3b50ec81",
   "metadata": {},
   "outputs": [],
   "source": []
  },
  {
   "cell_type": "code",
   "execution_count": null,
   "id": "1764ba91",
   "metadata": {},
   "outputs": [],
   "source": []
  }
 ],
 "metadata": {
  "kernelspec": {
   "display_name": "Python 3",
   "language": "python",
   "name": "python3"
  },
  "language_info": {
   "codemirror_mode": {
    "name": "ipython",
    "version": 3
   },
   "file_extension": ".py",
   "mimetype": "text/x-python",
   "name": "python",
   "nbconvert_exporter": "python",
   "pygments_lexer": "ipython3",
   "version": "3.13.5"
  }
 },
 "nbformat": 4,
 "nbformat_minor": 5
}
